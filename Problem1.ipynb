{
 "cells": [
  {
   "cell_type": "code",
   "execution_count": 495,
   "metadata": {},
   "outputs": [],
   "source": [
    "import numpy as np\n",
    "from scipy.stats import binom\n",
    "import matplotlib.pyplot as plt"
   ]
  },
  {
   "cell_type": "code",
   "execution_count": 496,
   "metadata": {},
   "outputs": [],
   "source": [
    "X_data = np.genfromtxt(r'x.csv',delimiter=',')\n",
    "n = len(X_data)"
   ]
  },
  {
   "cell_type": "code",
   "execution_count": 497,
   "metadata": {},
   "outputs": [],
   "source": [
    "def initializer(K):\n",
    "    pi = np.random.randint(low=1, high=10, size=K)\n",
    "    pi = pi/pi.sum()\n",
    "    theta = np.random.rand(K)\n",
    "    return pi, theta"
   ]
  },
  {
   "cell_type": "code",
   "execution_count": 498,
   "metadata": {},
   "outputs": [],
   "source": [
    "def ML_EM(X_data, K):\n",
    "    n = len(X_data)\n",
    "    # Initialize pi, theta\n",
    "    pi, theta = initializer(K)\n",
    "    LML = []       #list for log marginal likelihood\n",
    "    T = 50         # iterations\n",
    "    for t in range(T):\n",
    "# E Step\n",
    "        phi_ij = np.zeros((n,K))\n",
    "        for i in range(n):\n",
    "            for j in range(K):\n",
    "                phi_ij[i][j] = pi[j] * binom.pmf(X_data[i], 20, theta[j])\n",
    "        for i in range(n):\n",
    "            phi_ij[i, :] = phi_ij[i, :] / np.sum(phi_ij[i, :])\n",
    "\n",
    "# M Step\n",
    "        nj = np.sum(phi_ij, axis=0)\n",
    "        for j in range(K):\n",
    "            theta[j] = 1 / (20 * nj[j]) * np.dot(X_data.T, phi_ij[:, j])\n",
    "            pi[j] = nj[j] / n\n",
    "# Calculate log marginal likelihood\n",
    "        ft = 0\n",
    "        for i in range(n):\n",
    "            temp = 0\n",
    "            for j in range(K):\n",
    "                temp = temp + pi[j] * binom.pmf(X_data[i], 20, theta[j])\n",
    "            ft += np.log(temp)\n",
    "        print(ft)\n",
    "        LML.append(ft)\n",
    "    return phi_ij, LML"
   ]
  },
  {
   "cell_type": "code",
   "execution_count": 499,
   "metadata": {},
   "outputs": [],
   "source": [
    "# #E-step\n",
    "# def estep(phi_ij,theta,pi):\n",
    "#     num = []\n",
    "#     for ix in range(len(X_data)):\n",
    "#         num.append(np.multiply(pi, binom.pmf(X_data[ix],20,theta)))\n",
    "#     num = np.array(num)\n",
    "#     den = num.sum(axis=1).reshape(-1,1)\n",
    "#     print(den)\n",
    "#     phi_ij = num/den\n",
    "#     return phi_ij\n",
    "# phi_ij = np.zeros((n, 3))\n",
    "# phi_ij = estep(phi_ij,theta,pi)\n",
    "# print(\"phi_ij\",phi_ij)\n",
    "# phi_ij.sum(axis=0)"
   ]
  },
  {
   "cell_type": "code",
   "execution_count": 500,
   "metadata": {},
   "outputs": [],
   "source": [
    "# number = np.array([[1,2,3],[4,5,6]])\n",
    "# number\n",
    "# number.sum(axis=0).reshape(-1,1)"
   ]
  },
  {
   "cell_type": "code",
   "execution_count": 501,
   "metadata": {},
   "outputs": [],
   "source": [
    "# #print(phi_ij.T)\n",
    "# def mstep(phi_ij):\n",
    "#     nj = np.sum(phi_ij,axis = 0)\n",
    "# #    print(\"nj\",nj)\n",
    "#     K = len(nj)\n",
    "#     njx = np.zeros((1,K))\n",
    "#     njx = np.dot(phi_ij.T,X_data.T)\n",
    "#     thetaj = njx/(20*nj)\n",
    "#     pij = nj/n\n",
    "#     return pij, thetaj\n",
    "# mstep(phi_ij)"
   ]
  },
  {
   "cell_type": "code",
   "execution_count": 502,
   "metadata": {},
   "outputs": [],
   "source": [
    "# def EM(K):\n",
    "#     T=50 # iterations\n",
    "#     pi, theta = initializer(K)\n",
    "#     phi_ij = np.ones((n, K))\n",
    "#     n_j = np.zeros(K)\n",
    "#     ft = np.zeros(T)\n",
    "#     for t in range(T):\n",
    "#         for j in range(K):\n",
    "#         # E-step\n",
    "#             for i in range(n):\n",
    "#                 phi_ij[i][j] = pi[j]*binom.pmf(X_data[i],20,theta[j])/sum([pi[k]*binom.pmf(X_data[i],20,theta[k]) for k in range(K)])\n",
    "#         # M-step\n",
    "#             n_j[j] = sum([phi_ij[i][j] for i in range(n)])\n",
    "#             theta[j] = 0.05/n_j[j]*sum([phi_ij[i][j]*X_data[i] for i in range(n)])\n",
    "#             pi[j] = n_j[j]/n\n",
    "#         # Calculate log marginal likelihood\n",
    "#         ft[t] = sum([phi_ij[i][j]*(np.log(binom.pmf(X_data[i],20,theta[j]))+np.log(pi[j])) for i in range(n) for j in range(K)])\n",
    "#     return ft,phi_ij\n",
    "# ft1, phi_ij1 = EM(3)\n",
    "# ft1"
   ]
  },
  {
   "cell_type": "code",
   "execution_count": 503,
   "metadata": {},
   "outputs": [],
   "source": [
    "# def MLEM(K):\n",
    "#     T = 50 #iterations\n",
    "#     pi, theta = initializer(K)\n",
    "# #    print(pi,theta)\n",
    "#     phi_ij = np.ones((n,K))\n",
    "# #    n_j = np.zeros(K)\n",
    "#     ft = np.zeros(T)\n",
    "#     for t in range(50):\n",
    "#         phi_ij = estep(phi_ij,theta,pi)\n",
    "#         pi,theta = mstep(phi_ij)\n",
    "# #        print(pi,theta)\n",
    "#         ft[t] = np.sum([phi_ij[i][j]*(np.log(binom.pmf(X_data[i],20,theta[j]))+np.log(pi[j])) for i in range(n) for j in range(K)])\n",
    "#         print(ft[t])\n",
    "#     return ft,phi_ij"
   ]
  },
  {
   "cell_type": "code",
   "execution_count": 504,
   "metadata": {},
   "outputs": [
    {
     "name": "stdout",
     "output_type": "stream",
     "text": [
      "-6104.177488270638\n",
      "-5993.860812564217\n",
      "-5947.789915148692\n",
      "-5889.605621800288\n",
      "-5827.367099155488\n",
      "-5784.080308451768\n",
      "-5761.6076113572835\n",
      "-5751.3413367844405\n",
      "-5746.611345819139\n",
      "-5744.23491652197\n",
      "-5742.923126201471\n",
      "-5742.151220268463\n",
      "-5741.681497469659\n",
      "-5741.39123375355\n",
      "-5741.210656593168\n",
      "-5741.097968759624\n",
      "-5741.027529041192\n",
      "-5740.983448899295\n",
      "-5740.955840156795\n",
      "-5740.938535355809\n",
      "-5740.927682217239\n",
      "-5740.920871841015\n",
      "-5740.916596443679\n",
      "-5740.913911479966\n",
      "-5740.912224816151\n",
      "-5740.911165019307\n",
      "-5740.9104989785465\n",
      "-5740.910080332935\n",
      "-5740.909817156839\n",
      "-5740.909651698269\n",
      "-5740.909547666084\n",
      "-5740.909482251809\n",
      "-5740.909441117885\n",
      "-5740.909415250973\n",
      "-5740.909398984118\n",
      "-5740.909388754171\n",
      "-5740.90938232068\n",
      "-5740.909378274508\n",
      "-5740.9093757299015\n",
      "-5740.909374129578\n",
      "-5740.909373122951\n",
      "-5740.909372489979\n",
      "-5740.9093720918545\n",
      "-5740.90937184146\n",
      "-5740.909371683956\n",
      "-5740.90937158497\n",
      "-5740.909371522618\n",
      "-5740.90937148344\n",
      "-5740.909371458818\n",
      "-5740.909371443259\n"
     ]
    },
    {
     "data": {
      "text/plain": [
       "Text(0, 0.5, 'log marginal likelihood')"
      ]
     },
     "execution_count": 504,
     "metadata": {},
     "output_type": "execute_result"
    },
    {
     "data": {
      "image/png": "[encoded data removed]",
      "text/plain": [
       "<Figure size 432x288 with 1 Axes>"
      ]
     },
     "metadata": {},
     "output_type": "display_data"
    }
   ],
   "source": [
    "phi_ij1,ft1 = ML_EM(X_data,3)\n",
    "#ft1,phi_ij1 = MLEM(3)\n",
    "plt.plot(range(49),ft1[1:])\n",
    "plt.xlabel('iterations')\n",
    "plt.ylabel('log marginal likelihood')"
   ]
  },
  {
   "cell_type": "code",
   "execution_count": 479,
   "metadata": {},
   "outputs": [
    {
     "data": {
      "text/plain": [
       "array([[9.97529349e-01, 2.47064803e-03, 3.29559188e-09],\n",
       "       [5.88048351e-10, 2.09332522e-03, 9.97906674e-01],\n",
       "       [1.92971567e-07, 3.37829221e-02, 9.66216885e-01],\n",
       "       ...,\n",
       "       [9.99451045e-01, 5.48955111e-04, 1.79358297e-10],\n",
       "       [9.99451045e-01, 5.48955111e-04, 1.79358297e-10],\n",
       "       [1.07564106e-08, 8.49143617e-03, 9.91508553e-01]])"
      ]
     },
     "execution_count": 479,
     "metadata": {},
     "output_type": "execute_result"
    }
   ],
   "source": [
    "list01 = []\n",
    "for i in phi_ij1:\n",
    "    list01.append(np.argmax(i))\n",
    "phi_ij1"
   ]
  },
  {
   "cell_type": "code",
   "execution_count": 480,
   "metadata": {},
   "outputs": [
    {
     "data": {
      "text/plain": [
       "Text(0, 0.5, 'The most probable cluster')"
      ]
     },
     "execution_count": 480,
     "metadata": {},
     "output_type": "execute_result"
    },
    {
     "data": {
      "image/png": "[encoded data removed]",
      "text/plain": [
       "<Figure size 432x288 with 1 Axes>"
      ]
     },
     "metadata": {},
     "output_type": "display_data"
    }
   ],
   "source": [
    "plt.scatter(X_data,np.array(list01)+1,c='y', label='Scatter')\n",
    "#plt.legend()\n",
    "plt.xlabel('x')\n",
    "plt.ylabel('The most probable cluster')"
   ]
  },
  {
   "cell_type": "code",
   "execution_count": 361,
   "metadata": {},
   "outputs": [
    {
     "name": "stdout",
     "output_type": "stream",
     "text": [
      "-5821.8712174528555\n",
      "-5782.834044095457\n",
      "-5767.585223073415\n",
      "-5759.778483938356\n",
      "-5755.428688518698\n",
      "-5752.748922060261\n",
      "-5750.930876626964\n",
      "-5749.596964187916\n",
      "-5748.559935056702\n",
      "-5747.720091545438\n",
      "-5747.020255331393\n",
      "-5746.425159374232\n",
      "-5745.911549111099\n",
      "-5745.463184447621\n",
      "-5745.068182996875\n",
      "-5744.717530767544\n",
      "-5744.404200948844\n",
      "-5744.122603980334\n",
      "-5743.868226579054\n",
      "-5743.63738361462\n",
      "-5743.4270404812805\n",
      "-5743.23468144301\n",
      "-5743.058209186477\n",
      "-5742.895866366552\n",
      "-5742.746173178963\n",
      "-5742.60787698821\n",
      "-5742.479911270687\n",
      "-5742.361361940306\n",
      "-5742.251439642442\n",
      "-5742.149456956529\n",
      "-5742.054809685591\n",
      "-5741.966961572659\n",
      "-5741.885431903616\n",
      "-5741.8097855366605\n",
      "-5741.739624963667\n",
      "-5741.674584058183\n",
      "-5741.614323211227\n",
      "-5741.558525588491\n",
      "-5741.506894283759\n",
      "-5741.459150171645\n",
      "-5741.4150302962935\n",
      "-5741.374286659329\n",
      "-5741.33668529611\n",
      "-5741.3020055539455\n",
      "-5741.270039503728\n",
      "-5741.240591434147\n",
      "-5741.213477394671\n",
      "-5741.188524757375\n",
      "-5741.16557178686\n",
      "-5741.144467205206\n"
     ]
    },
    {
     "data": {
      "text/plain": [
       "[-5821.8712174528555,\n",
       " -5782.834044095457,\n",
       " -5767.585223073415,\n",
       " -5759.778483938356,\n",
       " -5755.428688518698,\n",
       " -5752.748922060261,\n",
       " -5750.930876626964,\n",
       " -5749.596964187916,\n",
       " -5748.559935056702,\n",
       " -5747.720091545438,\n",
       " -5747.020255331393,\n",
       " -5746.425159374232,\n",
       " -5745.911549111099,\n",
       " -5745.463184447621,\n",
       " -5745.068182996875,\n",
       " -5744.717530767544,\n",
       " -5744.404200948844,\n",
       " -5744.122603980334,\n",
       " -5743.868226579054,\n",
       " -5743.63738361462,\n",
       " -5743.4270404812805,\n",
       " -5743.23468144301,\n",
       " -5743.058209186477,\n",
       " -5742.895866366552,\n",
       " -5742.746173178963,\n",
       " -5742.60787698821,\n",
       " -5742.479911270687,\n",
       " -5742.361361940306,\n",
       " -5742.251439642442,\n",
       " -5742.149456956529,\n",
       " -5742.054809685591,\n",
       " -5741.966961572659,\n",
       " -5741.885431903616,\n",
       " -5741.8097855366605,\n",
       " -5741.739624963667,\n",
       " -5741.674584058183,\n",
       " -5741.614323211227,\n",
       " -5741.558525588491,\n",
       " -5741.506894283759,\n",
       " -5741.459150171645,\n",
       " -5741.4150302962935,\n",
       " -5741.374286659329,\n",
       " -5741.33668529611,\n",
       " -5741.3020055539455,\n",
       " -5741.270039503728,\n",
       " -5741.240591434147,\n",
       " -5741.213477394671,\n",
       " -5741.188524757375,\n",
       " -5741.16557178686,\n",
       " -5741.144467205206]"
      ]
     },
     "execution_count": 361,
     "metadata": {},
     "output_type": "execute_result"
    }
   ],
   "source": [
    "phi_ij2,ft2 = ML_EM(X_data,9)\n",
    "ft2"
   ]
  },
  {
   "cell_type": "code",
   "execution_count": 362,
   "metadata": {},
   "outputs": [
    {
     "data": {
      "text/plain": [
       "Text(0, 0.5, 'log marginal likelihood')"
      ]
     },
     "execution_count": 362,
     "metadata": {},
     "output_type": "execute_result"
    },
    {
     "data": {
      "image/png": "[encoded data removed]",
      "text/plain": [
       "<Figure size 432x288 with 1 Axes>"
      ]
     },
     "metadata": {},
     "output_type": "display_data"
    }
   ],
   "source": [
    "plt.plot(range(49),ft2[1:])\n",
    "plt.xlabel('iterations')\n",
    "plt.ylabel('log marginal likelihood')\n",
    "#phi_ij2"
   ]
  },
  {
   "cell_type": "code",
   "execution_count": 363,
   "metadata": {},
   "outputs": [],
   "source": [
    "list02 = []\n",
    "phi_ij2 = phi_ij2.T\n",
    "for i in phi_ij2:\n",
    "    list02.append(np.argmax(i))"
   ]
  },
  {
   "cell_type": "code",
   "execution_count": 364,
   "metadata": {},
   "outputs": [
    {
     "data": {
      "text/plain": [
       "Text(0, 0.5, 'The most probable cluster')"
      ]
     },
     "execution_count": 364,
     "metadata": {},
     "output_type": "execute_result"
    },
    {
     "data": {
      "image/png": "[encoded data removed]",
      "text/plain": [
       "<Figure size 432x288 with 1 Axes>"
      ]
     },
     "metadata": {},
     "output_type": "display_data"
    }
   ],
   "source": [
    "plt.scatter(X_data,np.array(list02)+1,c='y', label='Scatter')\n",
    "#plt.legend()\n",
    "plt.xlabel('x')\n",
    "plt.ylabel('The most probable cluster')"
   ]
  },
  {
   "cell_type": "code",
   "execution_count": 375,
   "metadata": {},
   "outputs": [
    {
     "name": "stdout",
     "output_type": "stream",
     "text": [
      "-5812.080594718311\n",
      "-5779.801088133458\n",
      "-5768.990482628892\n",
      "-5762.563946964713\n",
      "-5758.130503425984\n",
      "-5754.929912933291\n",
      "-5752.558756180225\n",
      "-5750.761009737302\n",
      "-5749.366718245833\n",
      "-5748.261403343979\n",
      "-5747.3670313256425\n",
      "-5746.629642361148\n",
      "-5746.0113061623615\n",
      "-5745.4849011196775\n",
      "-5745.030712773623\n",
      "-5744.6341951381655\n",
      "-5744.284474383505\n",
      "-5743.973328618835\n",
      "-5743.6944761164\n",
      "-5743.443066809036\n",
      "-5743.215311351079\n",
      "-5743.008206683004\n",
      "-5742.8193320663295\n",
      "-5742.646698322482\n",
      "-5742.488637898542\n",
      "-5742.343726099441\n",
      "-5742.210725549315\n",
      "-5742.088547348322\n",
      "-5741.976223749183\n",
      "-5741.872888506987\n",
      "-5741.7777622301455\n",
      "-5741.690141012827\n",
      "-5741.609387296448\n",
      "-5741.534922338082\n",
      "-5741.466219903492\n",
      "-5741.402800933798\n",
      "-5741.344228989635\n",
      "-5741.290106318049\n",
      "-5741.240070405979\n",
      "-5741.193790913178\n",
      "-5741.15096689634\n",
      "-5741.111324260936\n",
      "-5741.07461339698\n",
      "-5741.040606971046\n",
      "-5741.009097860178\n",
      "-5740.9798972202525\n",
      "-5740.952832688579\n",
      "-5740.927746722267\n",
      "-5740.904495072937\n",
      "-5740.882945400054\n"
     ]
    },
    {
     "data": {
      "text/plain": [
       "[-5812.080594718311,\n",
       " -5779.801088133458,\n",
       " -5768.990482628892,\n",
       " -5762.563946964713,\n",
       " -5758.130503425984,\n",
       " -5754.929912933291,\n",
       " -5752.558756180225,\n",
       " -5750.761009737302,\n",
       " -5749.366718245833,\n",
       " -5748.261403343979,\n",
       " -5747.3670313256425,\n",
       " -5746.629642361148,\n",
       " -5746.0113061623615,\n",
       " -5745.4849011196775,\n",
       " -5745.030712773623,\n",
       " -5744.6341951381655,\n",
       " -5744.284474383505,\n",
       " -5743.973328618835,\n",
       " -5743.6944761164,\n",
       " -5743.443066809036,\n",
       " -5743.215311351079,\n",
       " -5743.008206683004,\n",
       " -5742.8193320663295,\n",
       " -5742.646698322482,\n",
       " -5742.488637898542,\n",
       " -5742.343726099441,\n",
       " -5742.210725549315,\n",
       " -5742.088547348322,\n",
       " -5741.976223749183,\n",
       " -5741.872888506987,\n",
       " -5741.7777622301455,\n",
       " -5741.690141012827,\n",
       " -5741.609387296448,\n",
       " -5741.534922338082,\n",
       " -5741.466219903492,\n",
       " -5741.402800933798,\n",
       " -5741.344228989635,\n",
       " -5741.290106318049,\n",
       " -5741.240070405979,\n",
       " -5741.193790913178,\n",
       " -5741.15096689634,\n",
       " -5741.111324260936,\n",
       " -5741.07461339698,\n",
       " -5741.040606971046,\n",
       " -5741.009097860178,\n",
       " -5740.9798972202525,\n",
       " -5740.952832688579,\n",
       " -5740.927746722267,\n",
       " -5740.904495072937,\n",
       " -5740.882945400054]"
      ]
     },
     "execution_count": 375,
     "metadata": {},
     "output_type": "execute_result"
    }
   ],
   "source": [
    "phi_ij3,ft3 = ML_EM(X_data,15)\n",
    "ft3"
   ]
  },
  {
   "cell_type": "code",
   "execution_count": 376,
   "metadata": {},
   "outputs": [
    {
     "data": {
      "text/plain": [
       "Text(0, 0.5, 'log marginal likelihood')"
      ]
     },
     "execution_count": 376,
     "metadata": {},
     "output_type": "execute_result"
    },
    {
     "data": {
      "image/png": "[encoded data removed]",
      "text/plain": [
       "<Figure size 432x288 with 1 Axes>"
      ]
     },
     "metadata": {},
     "output_type": "display_data"
    }
   ],
   "source": [
    "plt.plot(range(49),ft3[1:])\n",
    "plt.xlabel('iterations')\n",
    "plt.ylabel('log marginal likelihood')"
   ]
  },
  {
   "cell_type": "code",
   "execution_count": 377,
   "metadata": {},
   "outputs": [],
   "source": [
    "list03 = []\n",
    "phi_ij3 = phi_ij3.T\n",
    "for i in phi_ij3:\n",
    "    list03.append(np.argmax(i))"
   ]
  },
  {
   "cell_type": "code",
   "execution_count": 378,
   "metadata": {},
   "outputs": [
    {
     "data": {
      "text/plain": [
       "Text(0, 0.5, 'The most probable cluster')"
      ]
     },
     "execution_count": 378,
     "metadata": {},
     "output_type": "execute_result"
    },
    {
     "data": {
      "image/png": "[encoded data removed]",
      "text/plain": [
       "<Figure size 432x288 with 1 Axes>"
      ]
     },
     "metadata": {},
     "output_type": "display_data"
    }
   ],
   "source": [
    "plt.scatter(X_data,np.array(list03)+1,c='y', label='Scatter')\n",
    "#plt.legend()\n",
    "plt.xlabel('x')\n",
    "plt.ylabel('The most probable cluster')"
   ]
  },
  {
   "cell_type": "code",
   "execution_count": 380,
   "metadata": {},
   "outputs": [
    {
     "data": {
      "text/plain": [
       "<matplotlib.legend.Legend at 0x16e9247c0f0>"
      ]
     },
     "execution_count": 380,
     "metadata": {},
     "output_type": "execute_result"
    },
    {
     "data": {
      "image/png": "[encoded data removed]",
      "text/plain": [
       "<Figure size 432x288 with 1 Axes>"
      ]
     },
     "metadata": {},
     "output_type": "display_data"
    }
   ],
   "source": [
    "plt.plot(range(1,50),ft1[1:], 'r', label = 'K = 3')\n",
    "plt.plot(range(1,50),ft2[1:], 'g', label = 'K = 9')\n",
    "plt.plot(range(1,50),ft3[1:], 'b', label = 'K = 15')\n",
    "plt.xlabel('iterations')\n",
    "plt.ylabel('log marginal likelihood')\n",
    "plt.legend()"
   ]
  },
  {
   "cell_type": "code",
   "execution_count": null,
   "metadata": {},
   "outputs": [],
   "source": []
  }
 ],
 "metadata": {
  "kernelspec": {
   "display_name": "Python 3",
   "language": "python",
   "name": "python3"
  },
  "language_info": {
   "codemirror_mode": {
    "name": "ipython",
    "version": 3
   },
   "file_extension": ".py",
   "mimetype": "text/x-python",
   "name": "python",
   "nbconvert_exporter": "python",
   "pygments_lexer": "ipython3",
   "version": "3.6.4"
  }
 },
 "nbformat": 4,
 "nbformat_minor": 2
}
